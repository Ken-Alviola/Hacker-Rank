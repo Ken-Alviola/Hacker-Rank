{
 "cells": [
  {
   "cell_type": "code",
   "execution_count": 1,
   "metadata": {
    "ExecuteTime": {
     "end_time": "2021-07-11T20:27:59.630857Z",
     "start_time": "2021-07-11T20:27:59.617476Z"
    }
   },
   "outputs": [
    {
     "name": "stdout",
     "output_type": "stream",
     "text": [
      "Hello, World!\n"
     ]
    }
   ],
   "source": [
    "print(\"Hello, World!\")"
   ]
  },
  {
   "cell_type": "markdown",
   "metadata": {},
   "source": [
    "Task \n",
    "Given an integer, , perform the following conditional actions:\n",
    "If n is odd, print Weird\n",
    "If n is even and in the inclusive range of 2 to 5, print Not Weird\n",
    "If n is even and in the inclusive range of 6 to 20, print Weird\n",
    "If  nis even and greater than 20 , print Not Weird\n",
    "\n",
    "Input Format\n",
    "A single line containing a positive integer, .\n",
    "Constraints\n",
    "\n",
    "Output Format\n",
    "Print Weird if the number is weird. Otherwise, print Not Weird.\n",
    "Sample Input 0\n",
    "3\n",
    "Sample Output 0\n",
    "Weird\n",
    "Explanation 0\n",
    " \n",
    " is odd and odd numbers are weird, so print Weird.\n",
    "Sample Input 1\n",
    "24\n",
    "Sample Output 1\n",
    "Not Weird\n",
    "Explanation 1\n",
    " \n",
    " and  is even, so it is not weird."
   ]
  },
  {
   "cell_type": "code",
   "execution_count": 2,
   "metadata": {
    "ExecuteTime": {
     "end_time": "2021-07-11T20:32:28.561680Z",
     "start_time": "2021-07-11T20:32:28.557400Z"
    }
   },
   "outputs": [],
   "source": [
    "import math\n",
    "import os\n",
    "import random\n",
    "import re\n",
    "import sys"
   ]
  },
  {
   "cell_type": "code",
   "execution_count": 24,
   "metadata": {
    "ExecuteTime": {
     "end_time": "2021-07-16T21:26:04.236279Z",
     "start_time": "2021-07-16T21:26:01.594711Z"
    }
   },
   "outputs": [
    {
     "name": "stdout",
     "output_type": "stream",
     "text": [
      "21\n",
      "Weird\n"
     ]
    }
   ],
   "source": [
    "if __name__ == '__main__':\n",
    "    n = int(input().strip())\n",
    "    if n % 2 != 0:\n",
    "        print('Weird')\n",
    "    elif n % 2 == 0 and n in range(2,6):\n",
    "        print ('Not Weird')\n",
    "    elif n % 2 == 0 and n in range(6,21):\n",
    "        print ('Weird')\n",
    "    else:\n",
    "        print ('Not Weird')"
   ]
  },
  {
   "cell_type": "code",
   "execution_count": null,
   "metadata": {},
   "outputs": [],
   "source": [
    "#Arithmetic Operators\n",
    "Task \n",
    "The provided code stub reads two integers from STDIN,  a and b . Add code to print three lines where:\n",
    "The first line contains the sum of the two numbers.\n",
    "The second line contains the difference of the two numbers (first - second).\n",
    "The third line contains the product of the two numbers."
   ]
  },
  {
   "cell_type": "code",
   "execution_count": null,
   "metadata": {},
   "outputs": [],
   "source": []
  }
 ],
 "metadata": {
  "kernelspec": {
   "display_name": "Python 3",
   "language": "python",
   "name": "python3"
  },
  "language_info": {
   "codemirror_mode": {
    "name": "ipython",
    "version": 3
   },
   "file_extension": ".py",
   "mimetype": "text/x-python",
   "name": "python",
   "nbconvert_exporter": "python",
   "pygments_lexer": "ipython3",
   "version": "3.8.5"
  }
 },
 "nbformat": 4,
 "nbformat_minor": 4
}
